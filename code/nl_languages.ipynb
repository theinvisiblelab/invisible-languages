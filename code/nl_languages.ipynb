{
 "cells": [
  {
   "cell_type": "code",
   "execution_count": null,
   "id": "552bcef5-afb9-409d-9897-00827dbea490",
   "metadata": {},
   "outputs": [],
   "source": [
    "import re\n",
    "from bs4 import BeautifulSoup\n",
    "import pandas as pd\n",
    "pd.set_option('display.max_rows', None)\n",
    "pd.set_option('display.max_columns', None)"
   ]
  },
  {
   "cell_type": "code",
   "execution_count": null,
   "id": "8045de24-40b9-4c69-b90b-868aba4a3065",
   "metadata": {},
   "outputs": [],
   "source": [
    "def extract_numeric_users(text):\n",
    "    # Use a regex to find a number with commas (e.g., \"7,500\")\n",
    "    match = re.search(r'([\\d,]+)', text)\n",
    "    if match:\n",
    "        # Remove commas and convert to int\n",
    "        return int(match.group(1).replace(',', ''))\n",
    "    return None\n",
    "\n",
    "def clean_text(text):\n",
    "    # Remove a trailing dot if present\n",
    "    return text.rstrip('.') if text.endswith('.') else text"
   ]
  },
  {
   "cell_type": "code",
   "execution_count": null,
   "id": "f40406f0-fcd7-4429-b351-5a1af70cb066",
   "metadata": {},
   "outputs": [],
   "source": [
    "# Open and read the HTML file\n",
    "with open('../data/nl_ethno.html', 'r', encoding='utf-8') as f:\n",
    "    html = f.read()\n",
    "\n",
    "# Parse the HTML content\n",
    "soup = BeautifulSoup(html, 'html.parser')\n",
    "\n",
    "# Find the languages section using the section id \"languages\"\n",
    "languages_section = soup.find('section', id='languages')\n",
    "\n",
    "# Find all language header blocks\n",
    "language_headers = languages_section.find_all('div', class_='languages__label entry__label')"
   ]
  },
  {
   "cell_type": "code",
   "execution_count": null,
   "id": "414860fb-5749-43ed-9b07-06fca4141dd7",
   "metadata": {},
   "outputs": [],
   "source": [
    "languages_data = []\n",
    "\n",
    "# Loop over each language header block\n",
    "for header in language_headers:\n",
    "    # Extract language name (assuming the first text node is the name)\n",
    "    language_name = header.contents[0].strip() if header.contents else None\n",
    "\n",
    "    # Extract the language code from the <a> tag inside the header\n",
    "    code_tag = header.find('a', class_='chip')\n",
    "    language_code = code_tag.get_text(strip=True) if code_tag else None\n",
    "\n",
    "    # Find the corresponding details block: the next <ul> with class \"languages__content entry__content\"\n",
    "    details_ul = header.find_next_sibling('ul', class_='languages__content entry__content')\n",
    "\n",
    "    details = {}\n",
    "    \n",
    "    if details_ul:\n",
    "        # Each detail is indicated by an <i> tag and the following text\n",
    "        for i_tag in details_ul.find_all('i'):\n",
    "            # The key is the text in the <i> tag (without the trailing colon)\n",
    "            key = i_tag.get_text(strip=True).rstrip(':')\n",
    "            value = \"\"\n",
    "            next_sibling = i_tag.next_sibling\n",
    "            if next_sibling:\n",
    "                value = next_sibling.strip()\n",
    "            \n",
    "            # For certain keys, remove a trailing dot\n",
    "            if key in {\"Location\", \"Status\", \"Alternate Names\", \"Autonym\", \"Classification\"}:\n",
    "                value = clean_text(value)\n",
    "            \n",
    "            # For Users, extract the numeric value\n",
    "            if key == \"Users\":\n",
    "                numeric_value = extract_numeric_users(value)\n",
    "                details[key] = numeric_value\n",
    "            else:\n",
    "                details[key] = value\n",
    "\n",
    "    # Combine language name, code, and details into a single dict\n",
    "    lang_entry = {\n",
    "        'Language': language_name,\n",
    "        'Code': language_code,\n",
    "    }\n",
    "    lang_entry.update(details)\n",
    "    languages_data.append(lang_entry)\n",
    "\n",
    "# Create a pandas DataFrame\n",
    "df = pd.DataFrame(languages_data)\n",
    "\n",
    "# Sort the DataFrame by the \"Users\" column (if present) in ascending order\n",
    "if 'Users' in df.columns:\n",
    "    df.sort_values('Users', inplace=True)\n",
    "\n",
    "\n",
    "# Desired column order\n",
    "new_order = ['Language', 'Classification', 'Status', 'Users', 'Location', 'Code', 'Alternate Names', 'Autonym']\n",
    "df = df[new_order]\n",
    "\n",
    "# Drop index and display the DataFrame\n",
    "df = df.reset_index(drop = True)\n",
    "\n",
    "df"
   ]
  },
  {
   "cell_type": "code",
   "execution_count": null,
   "id": "d5326609-e3c4-445e-a2a4-03ff9d7436d7",
   "metadata": {},
   "outputs": [],
   "source": []
  },
  {
   "cell_type": "code",
   "execution_count": null,
   "id": "6b82531b-d859-4d97-98ef-3f1ed5f33b9d",
   "metadata": {},
   "outputs": [],
   "source": []
  },
  {
   "cell_type": "code",
   "execution_count": null,
   "id": "2382d075-d826-4e75-9379-9b5c8cfee4b2",
   "metadata": {},
   "outputs": [],
   "source": []
  }
 ],
 "metadata": {
  "kernelspec": {
   "display_name": "Python 3 (ipykernel)",
   "language": "python",
   "name": "python3"
  },
  "language_info": {
   "codemirror_mode": {
    "name": "ipython",
    "version": 3
   },
   "file_extension": ".py",
   "mimetype": "text/x-python",
   "name": "python",
   "nbconvert_exporter": "python",
   "pygments_lexer": "ipython3",
   "version": "3.12.9"
  }
 },
 "nbformat": 4,
 "nbformat_minor": 5
}
